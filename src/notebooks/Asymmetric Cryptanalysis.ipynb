{
 "cells": [
  {
   "cell_type": "markdown",
   "id": "67f7ff5f",
   "metadata": {},
   "source": [
    "# Part a\n",
    "We want to find a such that $a^{103} = 1$. By FLT, $a^{1030} = 1 \\implies (a^{10})^{103}=1$. Find any a coprime with 1031, then find $a^{10}$ mod 1031."
   ]
  },
  {
   "cell_type": "code",
   "execution_count": 3,
   "id": "797f46c6",
   "metadata": {},
   "outputs": [],
   "source": [
    "n=1031\n",
    "Zn = Zmod(n)\n",
    "G = Zn.unit_group()"
   ]
  },
  {
   "cell_type": "code",
   "execution_count": 5,
   "id": "c5878914",
   "metadata": {},
   "outputs": [
    {
     "ename": "TypeError",
     "evalue": "__call__() takes exactly 0 positional arguments (1 given)",
     "output_type": "error",
     "traceback": [
      "\u001b[0;31m---------------------------------------------------------------------------\u001b[0m",
      "\u001b[0;31mTypeError\u001b[0m                                 Traceback (most recent call last)",
      "Input \u001b[0;32mIn [5]\u001b[0m, in \u001b[0;36m<cell line: 1>\u001b[0;34m()\u001b[0m\n\u001b[0;32m----> 1\u001b[0m \u001b[43mG\u001b[49m\u001b[38;5;241;43m.\u001b[39;49m\u001b[43morder\u001b[49m\u001b[43m(\u001b[49m\u001b[43mInteger\u001b[49m\u001b[43m(\u001b[49m\u001b[38;5;241;43m103\u001b[39;49m\u001b[43m)\u001b[49m\u001b[43m)\u001b[49m\n",
      "\u001b[0;31mTypeError\u001b[0m: __call__() takes exactly 0 positional arguments (1 given)"
     ]
    }
   ],
   "source": [
    "G.order()"
   ]
  },
  {
   "cell_type": "code",
   "execution_count": null,
   "id": "8a7140bb",
   "metadata": {},
   "outputs": [],
   "source": []
  }
 ],
 "metadata": {
  "kernelspec": {
   "display_name": "SageMath 9.7",
   "language": "sage",
   "name": "sagemath-9.7"
  },
  "language_info": {
   "codemirror_mode": {
    "name": "ipython",
    "version": 3
   },
   "file_extension": ".py",
   "mimetype": "text/x-python",
   "name": "python",
   "nbconvert_exporter": "python",
   "pygments_lexer": "ipython3",
   "version": "3.10.5"
  }
 },
 "nbformat": 4,
 "nbformat_minor": 5
}
