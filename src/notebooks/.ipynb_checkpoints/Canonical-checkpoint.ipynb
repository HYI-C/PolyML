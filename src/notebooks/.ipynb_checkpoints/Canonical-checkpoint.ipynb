{
 "cells": [
  {
   "cell_type": "markdown",
   "metadata": {},
   "source": [
    "## Load canonical vertices"
   ]
  },
  {
   "cell_type": "code",
   "execution_count": 317,
   "metadata": {},
   "outputs": [],
   "source": [
    "import numpy as np"
   ]
  },
  {
   "cell_type": "code",
   "execution_count": 166,
   "metadata": {},
   "outputs": [],
   "source": [
    "with open('.././data/v05.txt', 'r') as f:\n",
    "    L = f.readlines()\n",
    "L=[l.strip() for l in L];\n",
    "L = [l for l in L if \"N\" not in l] #...select the matrices only\n",
    "L = L[:-1]\n",
    "L = [l.split() for l in L]         #...use delimiter\n",
    "L = [list(map(int, l)) for l in L] #...convert to int\n"
   ]
  },
  {
   "cell_type": "code",
   "execution_count": 211,
   "metadata": {},
   "outputs": [
    {
     "data": {
      "text/plain": [
       "array([[ 1,  0,  0,  0],\n",
       "       [ 0,  1,  0,  0],\n",
       "       [ 0,  0,  1,  0],\n",
       "       [ 1,  2,  3,  5],\n",
       "       [-2, -3, -4, -5]])"
      ]
     },
     "execution_count": 211,
     "metadata": {},
     "output_type": "execute_result"
    }
   ],
   "source": [
    "L = np.reshape(L, (-1,4, 5))\n",
    "L[0].T"
   ]
  },
  {
   "cell_type": "code",
   "execution_count": 198,
   "metadata": {},
   "outputs": [
    {
     "data": {
      "text/plain": [
       "1561"
      ]
     },
     "execution_count": 198,
     "metadata": {},
     "output_type": "execute_result"
    }
   ],
   "source": [
    "len(L)"
   ]
  },
  {
   "cell_type": "markdown",
   "metadata": {},
   "source": [
    "## Get the plücker coords\n",
    "We need to input matrix form into this"
   ]
  },
  {
   "cell_type": "code",
   "execution_count": 182,
   "metadata": {},
   "outputs": [],
   "source": [
    "def plk(vec):\n",
    "    vert = matrix(vec);\n",
    "    ker=vert.kernel().matrix()\n",
    "    return ker.minors(ker.nrows())"
   ]
  },
  {
   "cell_type": "code",
   "execution_count": 196,
   "metadata": {},
   "outputs": [
    {
     "name": "stdout",
     "output_type": "stream",
     "text": [
      "[1, 1, 1, 1, 1]\n"
     ]
    }
   ],
   "source": [
    "print(plk(((1,0,0,0),(0,1,0,0),(0,0,1,0),(1,2,3,5),(-2,-3,-4,-5))))"
   ]
  },
  {
   "cell_type": "code",
   "execution_count": 223,
   "metadata": {},
   "outputs": [],
   "source": [
    "plklist=[];\n",
    "for i in range(0,len(L)):\n",
    "    plklist.append(plk(L[i].T.tolist()))"
   ]
  },
  {
   "cell_type": "code",
   "execution_count": 232,
   "metadata": {
    "scrolled": true
   },
   "outputs": [
    {
     "data": {
      "text/plain": [
       "[1, 1, 1, 1, 1]"
      ]
     },
     "execution_count": 232,
     "metadata": {},
     "output_type": "execute_result"
    }
   ],
   "source": [
    "plklist[1]"
   ]
  },
  {
   "cell_type": "code",
   "execution_count": 227,
   "metadata": {},
   "outputs": [
    {
     "data": {
      "text/plain": [
       "array([[[ 1,  0,  0,  1, -2],\n",
       "        [ 0,  1,  0,  2, -3],\n",
       "        [ 0,  0,  1,  3, -4],\n",
       "        [ 0,  0,  0,  5, -5]],\n",
       "\n",
       "       [[ 1,  0,  2,  3, -6],\n",
       "        [ 0,  1,  4,  3, -8],\n",
       "        [ 0,  0,  5,  0, -5],\n",
       "        [ 0,  0,  0,  5, -5]],\n",
       "\n",
       "       [[ 1,  0,  0,  0, -1],\n",
       "        [ 0,  1,  0,  0, -1],\n",
       "        [ 0,  0,  1,  0, -1],\n",
       "        [ 0,  0,  0,  1, -1]],\n",
       "\n",
       "       [[ 1,  1,  1,  1, -4],\n",
       "        [ 0,  5,  0,  0, -5],\n",
       "        [ 0,  0,  5,  0, -5],\n",
       "        [ 0,  0,  0,  5, -5]],\n",
       "\n",
       "       [[ 1,  0,  0,  0, -2],\n",
       "        [ 0,  1,  0,  0, -1],\n",
       "        [ 0,  0,  1,  0, -1],\n",
       "        [ 0,  0,  0,  1, -1]]])"
      ]
     },
     "execution_count": 227,
     "metadata": {},
     "output_type": "execute_result"
    }
   ],
   "source": [
    "L[0:5]"
   ]
  },
  {
   "cell_type": "code",
   "execution_count": 62,
   "metadata": {},
   "outputs": [],
   "source": [
    "import csv\n",
    "with open('plcoord.csv', 'w') as f:\n",
    "      c = csv.writer(f)\n",
    "      c.writerows(plklist)"
   ]
  },
  {
   "cell_type": "markdown",
   "metadata": {},
   "source": [
    "## Compute the Polytope Volume"
   ]
  },
  {
   "cell_type": "code",
   "execution_count": 28,
   "metadata": {},
   "outputs": [],
   "source": [
    "def polyvol(vec):\n",
    "    vert = matrix(vec);\n",
    "    vol=Polyhedron(vertices=vert).volume()\n",
    "    return vol"
   ]
  },
  {
   "cell_type": "code",
   "execution_count": 339,
   "metadata": {},
   "outputs": [],
   "source": [
    "volist=[];\n",
    "for i in range(0,len(L)):\n",
    "    volist.append(24*polyvol(L[i].T))"
   ]
  },
  {
   "cell_type": "markdown",
   "metadata": {},
   "source": [
    "### Save polytope data\n",
    "We could save the data as strings (with literals) in the database."
   ]
  },
  {
   "cell_type": "code",
   "execution_count": 321,
   "metadata": {},
   "outputs": [],
   "source": [
    "import csv\n",
    "with open('polyvol.csv', 'w') as f:\n",
    "      c = csv.writer(f)\n",
    "      c.writerows(volist)"
   ]
  },
  {
   "cell_type": "markdown",
   "metadata": {},
   "source": [
    "## Create Database"
   ]
  },
  {
   "cell_type": "code",
   "execution_count": 343,
   "metadata": {},
   "outputs": [],
   "source": [
    "import sqlite3\n",
    "\n",
    "con = sqlite3.connect(\"dim_4_plucker.db\")\n",
    "cur = con.cursor()\n",
    "\n",
    "cur.execute(\"CREATE TABLE poly_vol_4(vertices, plucker, volume, num_vertices)\")\n",
    "con.commit()"
   ]
  },
  {
   "cell_type": "code",
   "execution_count": 344,
   "metadata": {},
   "outputs": [],
   "source": [
    "for i, j, k in zip(L, plklist, volist):\n",
    "    cur.execute(\"INSERT INTO poly_vol_4 VALUES (?, ?, ?, ?)\", (\"{}\".format(i.tolist()), \"{}\".format(j), k, \"{}\".format(len(j))))\n",
    "con.commit()"
   ]
  },
  {
   "cell_type": "markdown",
   "metadata": {},
   "source": [
    "## Compute Polytope Reflexivity"
   ]
  },
  {
   "cell_type": "code",
   "execution_count": 316,
   "metadata": {},
   "outputs": [
    {
     "data": {
      "text/plain": [
       "[[1, 0, 2, 3, -6], [0, 1, 4, 3, -8], [0, 0, 5, 0, -5], [0, 0, 0, 5, -5]]"
      ]
     },
     "execution_count": 316,
     "metadata": {},
     "output_type": "execute_result"
    }
   ],
   "source": [
    "from ast import literal_eval\n",
    "literal_eval(t[1][0])"
   ]
  }
 ],
 "metadata": {
  "kernelspec": {
   "display_name": "SageMath 9.7",
   "language": "sage",
   "name": "sagemath-9.7"
  },
  "language_info": {
   "codemirror_mode": {
    "name": "ipython",
    "version": 3
   },
   "file_extension": ".py",
   "mimetype": "text/x-python",
   "name": "python",
   "nbconvert_exporter": "python",
   "pygments_lexer": "ipython3",
   "version": "3.10.5"
  }
 },
 "nbformat": 4,
 "nbformat_minor": 2
}
